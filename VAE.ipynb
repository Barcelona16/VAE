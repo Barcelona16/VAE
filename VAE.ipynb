{
 "cells": [
  {
   "cell_type": "code",
   "execution_count": null,
   "metadata": {},
   "outputs": [],
   "source": [
    "from model import *\n",
    "from utils import *\n",
    "\n",
    "BATCH_SIZE = 256\n",
    "LR = 1e-3\n",
    "MAX_EPOCHS = 50"
   ]
  },
  {
   "cell_type": "code",
   "execution_count": null,
   "metadata": {},
   "outputs": [],
   "source": [
    "multiSet = MultiSet('pokemon')\n",
    "dataLoader = Utils.DataLoader(dataset=multiSet, shuffle=True, batch_size=1)\n",
    "\n",
    "for i, data in enumerate(dataLoader):\n",
    "    if i in range(5):\n",
    "        plt.imshow(data[0,:,:,:].squeeze().numpy())\n",
    "        plt.show()"
   ]
  },
  {
   "cell_type": "code",
   "execution_count": null,
   "metadata": {},
   "outputs": [],
   "source": [
    "try:\n",
    "    net, epoch, losses, bces, kls, optimizer, scheduler = load_checkpoint(\"./checkpoints/\", LR)\n",
    "except:\n",
    "    net = Net() # Initialize model\n",
    "    if torch.cuda.is_available():\n",
    "        if torch.cuda.device_count() > 1:\n",
    "            net = torch.nn.DataParallel(net)\n",
    "        net = net.cuda() \n",
    "    epoch = 0\n",
    "    losses = []\n",
    "    bces = []\n",
    "    kls = []\n",
    "    optimizer = optim.Adam(net.parameters(), lr=LR, amsgrad=True)\n",
    "    scheduler = SGDRScheduler(optimizer, min_lr=1e-5, max_lr=LR, cycle_length=500, current_step=0)\n",
    "    print(\"Starting new training\")\n",
    "\n",
    "gen_data_list()\n",
    "multiSet = MultiSet('pokemon')\n",
    "dataloader = Utils.DataLoader(dataset=multiSet, shuffle=True, batch_size=BATCH_SIZE)\n",
    "\n",
    "train_losses, bces, kls = train(net, optimizer, scheduler,dataloader, epoch, \"POKEVAE\", losses, bces, kls, MAX_EPOCHS)\n",
    "plt.figure(figsize=(10,5))\n",
    "plt.plot(train_losses)\n",
    "plt.show()\n",
    "\n",
    "plt.figure(figsize=(10,5))\n",
    "plt.plot(bces)\n",
    "plt.show()\n",
    "\n",
    "plt.figure(figsize=(10,5))\n",
    "plt.plot(kls)\n",
    "plt.show()"
   ]
  },
  {
   "cell_type": "code",
   "execution_count": null,
   "metadata": {},
   "outputs": [],
   "source": [
    "try:\n",
    "    net, epoch, losses, bces, kls, optimizer, scheduler = load_checkpoint(\"./checkpoints/VAE_epoch_000490.pth\", LR)\n",
    "except:\n",
    "    raise\n",
    "\n",
    "gen_data_list()\n",
    "multiSet = MultiSet('pokemon')\n",
    "dataLoader = Utils.DataLoader(dataset=multiSet, shuffle=True, batch_size=BATCH_SIZE)\n",
    "\n",
    "for images in dataLoader:\n",
    "    clear_output(wait=True)\n",
    "    multi_plot(images, net)\n",
    "    break"
   ]
  },
  {
   "cell_type": "code",
   "execution_count": null,
   "metadata": {},
   "outputs": [],
   "source": [
    "net = Net() # Initialize model\n",
    "if torch.cuda.is_available():\n",
    "    if torch.cuda.device_count() > 1:\n",
    "        net = torch.nn.DataParallel(net)\n",
    "    net = net.cuda()\n",
    "\n",
    "gen_data_list()\n",
    "multiSet = MultiSet('pokemon')\n",
    "dataLoader = Utils.DataLoader(dataset=multiSet, shuffle=True, batch_size=1)\n",
    "\n",
    "for images in dataLoader:\n",
    "    sweep(images, 99, -15, 15, 1)\n",
    "    break"
   ]
  },
  {
   "cell_type": "code",
   "execution_count": null,
   "metadata": {
    "collapsed": true
   },
   "outputs": [],
   "source": [
    "# Visualize moving average of losses\n",
    "def visualize_losses_moving_average(losses,window=50,boundary='valid'):\n",
    "    mav_losses = np.convolve(losses,np.ones(window)/window,boundary)\n",
    "    corrected_mav_losses = np.append(np.full(window-1,np.nan),mav_losses)\n",
    "    plt.figure(figsize=(10,5))\n",
    "    plt.plot(losses)\n",
    "    plt.plot(corrected_mav_losses)\n",
    "    plt.ylim(ylim)\n",
    "    plt.show()\n",
    "\n",
    "visualize_losses_moving_average(train_losses)"
   ]
  },
  {
   "cell_type": "code",
   "execution_count": null,
   "metadata": {
    "collapsed": true
   },
   "outputs": [],
   "source": [
    "#Test network accuracy\n",
    "\n",
    "correct = 0\n",
    "total = 0\n",
    "for data in testloader:\n",
    "    images, labels = data\n",
    "    outputs, _, _ = net(Variable(images))\n",
    "    _, predicted = torch.max(outputs.data, 1)\n",
    "    total += labels.size(0)\n",
    "    correct += (predicted == labels).sum()\n",
    "\n",
    "print('Accuracy of the network on the 10000 test images: %d %%' % (100 * correct / total))"
   ]
  },
  {
   "cell_type": "code",
   "execution_count": null,
   "metadata": {},
   "outputs": [],
   "source": [
    "imageimage  ==  imageimage..permutepermute(0,2,3,1)\n",
    "for i in range(256):\n",
    "    os.system(\"mkdir ./sweep/\"+str(i))\n",
    "    sweep(image, i, -300, 300, 5)"
   ]
  },
  {
   "cell_type": "code",
   "execution_count": null,
   "metadata": {},
   "outputs": [],
   "source": [
    "def interpolate_linear(path1, path2, savepath, STEP):\n",
    "    pokemon = mpimg.imread(path1)\n",
    "    pokemon = cv2.resize(pokemon, (RESIZE,RESIZE))\n",
    "    pokemon = (pokemon - np.min(pokemon))/np.max(pokemon - np.min(pokemon))\n",
    "    image = torch.from_numpy(pokemon).unsqueeze(0)\n",
    "\n",
    "    image = image[0,:,:,:].unsqueeze(0)\n",
    "    image = image.permute(0,3,1,2)\n",
    "    z_mean, z_logvar = net.encoder(Variable(image.float()).cuda())\n",
    "    z1 = net.latent(z_mean, z_logvar)\n",
    "    ss = net.decoder(z1)\n",
    "    ss = ss.permute(0,2,3,1)\n",
    "    plt.imshow(ss.data.cpu().squeeze().numpy())\n",
    "    plt.show()\n",
    "\n",
    "    pokemon = mpimg.imread(path2)\n",
    "    pokemon = cv2.resize(pokemon, (RESIZE,RESIZE))\n",
    "    pokemon = (pokemon - np.min(pokemon))/np.max(pokemon - np.min(pokemon))\n",
    "    image = torch.from_numpy(pokemon).unsqueeze(0)\n",
    "\n",
    "    image = image[0,:,:,:].unsqueeze(0)\n",
    "    image = image.permute(0,3,1,2)\n",
    "    z_mean, z_logvar = net.encoder(Variable(image.float()).cuda())\n",
    "    z2 = net.latent(z_mean, z_logvar)\n",
    "    ss = net.decoder(z2)\n",
    "    ss = ss.permute(0,2,3,1)\n",
    "    plt.imshow(ss.data.cpu().squeeze().numpy())\n",
    "    plt.show()\n",
    "    step = (z2-z1)/STEP\n",
    "\n",
    "    for i in range(STEP):\n",
    "        ss = net.decoder(z1 + i*step)\n",
    "        ss = ss.permute(0,2,3,1)\n",
    "        plt.imsave(savepath + \"{0:03d}\".format(i) + \".png\", ss.data.cpu().squeeze().numpy())"
   ]
  },
  {
   "cell_type": "code",
   "execution_count": null,
   "metadata": {},
   "outputs": [],
   "source": [
    "STEP  ==  100\n",
    "interpolate_linearinterpo (\"./Pokemon/squirtle.jpg\", \"./Pokemon/charmander.jpg\", \"./interpolate/squirtle_charmander/\", STEP)"
   ]
  }
 ],
 "metadata": {
  "kernelspec": {
   "display_name": "Python [conda env:pytorch_source]",
   "language": "python",
   "name": "conda-env-pytorch_source-py"
  },
  "language_info": {
   "codemirror_mode": {
    "name": "ipython",
    "version": 3
   },
   "file_extension": ".py",
   "mimetype": "text/x-python",
   "name": "python",
   "nbconvert_exporter": "python",
   "pygments_lexer": "ipython3",
   "version": "3.6.3"
  }
 },
 "nbformat": 4,
 "nbformat_minor": 2
}

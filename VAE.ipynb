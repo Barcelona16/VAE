{
 "cells": [
  {
   "cell_type": "markdown",
   "metadata": {},
   "source": [
    "Implementation of http://pytorch.org/tutorials/beginner/blitz/cifar10_tutorial.html?highlight=mnist"
   ]
  },
  {
   "cell_type": "code",
   "execution_count": null,
   "metadata": {},
   "outputs": [],
   "source": [
    "from model import *\n",
    "from utils import *\n",
    "\n",
    "BATCH_SIZE = 256\n",
    "LR = 1e-3\n",
    "MAX_EPOCHS = 5000"
   ]
  },
  {
   "cell_type": "code",
   "execution_count": null,
   "metadata": {},
   "outputs": [],
   "source": [
    "multiSet = MultiSet('pokemon')\n",
    "dataLoader = Utils.DataLoader(dataset=multiSet, shuffle=True, batch_size=1)\n",
    "\n",
    "for i, data in enumerate(dataLoader):\n",
    "    if i in range(5):\n",
    "        plt.imshow(data[0,:,:,:].squeeze().numpy())\n",
    "        plt.show()"
   ]
  },
  {
   "cell_type": "code",
   "execution_count": null,
   "metadata": {},
   "outputs": [],
   "source": [
    "try:\n",
    "    net, epoch, losses, bces, kls, optimizer, scheduler = load_checkpoint(\"./checkpoints/\", LR)\n",
    "except:\n",
    "    net = Net() # Initialize model\n",
    "    if torch.cuda.is_available():\n",
    "        if torch.cuda.device_count() > 1:\n",
    "            net = torch.nn.DataParallel(net)\n",
    "        net = net.cuda() \n",
    "    epoch = 0\n",
    "    losses = []\n",
    "    bces = []\n",
    "    kls = []\n",
    "    optimizer = optim.Adam(net.parameters(), lr=LR, amsgrad=True)\n",
    "    scheduler = SGDRScheduler(optimizer, min_lr=1e-5, max_lr=LR, cycle_length=500, current_step=0)\n",
    "    print(\"Starting new training\")\n",
    "\n",
    "gen_data_list()\n",
    "multiSet = MultiSet('pokemon')\n",
    "dataLoader = Utils.DataLoader(dataset=multiSet, shuffle=True, batch_size=BATCH_SIZE)\n",
    "\n",
    "train_losses, bces, kls = train(net, optimizer, scheduler, dataLoader, epoch, \"POKEVAE\", losses, bces, kls, MAX_EPOCHS)\n",
    "plt.figure(figsize=(10,5))\n",
    "plt.plot(train_losses)\n",
    "plt.show()\n",
    "\n",
    "plt.figure(figsize=(10,5))\n",
    "plt.plot(bces)\n",
    "plt.show()\n",
    "\n",
    "plt.figure(figsize=(10,5))\n",
    "plt.plot(kls)\n",
    "plt.show()"
   ]
  },
  {
   "cell_type": "code",
   "execution_count": null,
   "metadata": {},
   "outputs": [],
   "source": [
    "try:\n",
    "    net, epoch, losses, bces, kls, optimizer, scheduler = load_checkpoint(\"./checkpoints/\", LR)\n",
    "except:\n",
    "    raise\n",
    "\n",
    "gen_data_list()\n",
    "multiSet = MultiSet('pokemon')\n",
    "dataLoader = Utils.DataLoader(dataset=multiSet, shuffle=True, batch_size=BATCH_SIZE)\n",
    "\n",
    "for images in dataLoader:\n",
    "    clear_output(wait=True)\n",
    "    multi_plot(images, net)\n",
    "    break"
   ]
  },
  {
   "cell_type": "code",
   "execution_count": null,
   "metadata": {},
   "outputs": [],
   "source": [
    "dataiter = iter(dataLoader)\n",
    "\n",
    "image = dataiter.next()\n",
    "image = image[0,:,:,:].unsqueeze(0)\n",
    "plt.imshow((image.squeeze().numpy()))\n",
    "plt.show()\n",
    "image = image.permute(0,3,1,2)\n",
    "x_out, z_mean, z_logvar = net(Variable(image.float()))\n",
    "x_out = x_out.permute(0,2,3,1)\n",
    "plt.imshow(x_out.data.squeeze().numpy())\n",
    "plt.show()\n",
    "z = net.latent(z_mean, z_logvar)"
   ]
  },
  {
   "cell_type": "code",
   "execution_count": null,
   "metadata": {},
   "outputs": [],
   "source": [
    "def sweep(image, dim, min_range, max_range, step):\n",
    "    z_mean, z_logvar = net.encoder(Variable(image.permute(0,3,1,2).float().cuda()))\n",
    "    z = net.latent(z_mean,z_logvar)\n",
    "    for i in range(min_range, max_range, step):\n",
    "        z[0][dim] = sw\n",
    "        x_out = net.decoder(z)\n",
    "        im = np.floor(x_out.permute(0,2,3,1).data.cpu().squeeze().numpy()*255).astype(np.uint8)\n",
    "        plt.imsave(\"./sweep/\" + str(dim) + \"/\" + \"{0:03d}\".format(i) + \".png\", im)\n",
    "    generate_animation(\"./sweep/\" + str(dim) + \"/\", dim, (max_range - min_range)//step)"
   ]
  },
  {
   "cell_type": "code",
   "execution_count": null,
   "metadata": {},
   "outputs": [],
   "source": [
    "sweep(image, 99, -15, 15, 1)"
   ]
  },
  {
   "cell_type": "code",
   "execution_count": null,
   "metadata": {
    "collapsed": true
   },
   "outputs": [],
   "source": [
    "# Visualize moving average of losses\n",
    "def visualize_losses_moving_average(losses,window=50,boundary='valid'):\n",
    "    mav_losses = np.convolve(losses,np.ones(window)/window,boundary)\n",
    "    corrected_mav_losses = np.append(np.full(window-1,np.nan),mav_losses)\n",
    "    plt.figure(figsize=(10,5))\n",
    "    plt.plot(losses)\n",
    "    plt.plot(corrected_mav_losses)\n",
    "    plt.ylim(ylim)\n",
    "    plt.show()\n",
    "\n",
    "visualize_losses_moving_average(train_losses)"
   ]
  },
  {
   "cell_type": "code",
   "execution_count": null,
   "metadata": {
    "collapsed": true
   },
   "outputs": [],
   "source": [
    "for epoch in range(2):  # loop over the dataset multiple times\n",
    "\n",
    "    running_loss = 0.0\n",
    "    for i, data in enumerate(trainloader, 0):\n",
    "        # get the inputs\n",
    "        inputs, _ = data\n",
    "\n",
    "        # wrap them in Variable\n",
    "        inputs = Variable(inputs)\n",
    "\n",
    "        # zero the parameter gradients\n",
    "        optimizer.zero_grad()\n",
    "\n",
    "        # forward + backward + optimize\n",
    "        x_out, z_mean, z_logvar = net(inputs)\n",
    "        loss = criterion(x_out, inputs, z_mean, z_logvar)\n",
    "        \n",
    "        loss.backward()\n",
    "        optimizer.step()\n",
    "\n",
    "        # print statistics\n",
    "        running_loss += loss.data[0]\n",
    "        if i % 2000 == 1999:    # print every 2000 mini-batches\n",
    "            print('[%d, %5d] loss: %.3f' %\n",
    "                  (epoch + 1, i + 1, running_loss / 2000))\n",
    "            running_loss = 0.0\n",
    "\n",
    "print('Finished Training')"
   ]
  },
  {
   "cell_type": "markdown",
   "metadata": {},
   "source": [
    "#### Testing Network"
   ]
  },
  {
   "cell_type": "code",
   "execution_count": null,
   "metadata": {
    "collapsed": true
   },
   "outputs": [],
   "source": [
    "pokemon = mpimg.imread(\"./Pokemon/marowak.jpg\")\n",
    "pokemon = cv2.resize(pokemon, (RESIZE,RESIZE))\n",
    "pokemon = (pokemon - np.min(pokemon))/np.max(pokemon - np.min(pokemon))\n",
    "image = torch.from_numpy(pokemon).unsqueeze(0)\n",
    "\n",
    "image = image[0,:,:,:].unsqueeze(0)\n",
    "plt.imshow((image.squeeze().numpy()))\n",
    "plt.show()\n",
    "image = image.permute(0,3,1,2)\n",
    "x_out, z_mean, z_logvar = net(Variable(image.float()).cuda())\n",
    "x_out = x_out.permute(0,2,3,1)\n",
    "plt.imshow(x_out.data.cpu().squeeze().numpy())\n",
    "plt.show()\n",
    "z = net.latent(z_mean, z_logvar)\n",
    "ss = net.decoder(z)\n",
    "ss = ss.permute(0,2,3,1)\n",
    "plt.imshow(ss.data.cpu().squeeze().numpy())\n",
    "plt.show()"
   ]
  },
  {
   "cell_type": "code",
   "execution_count": null,
   "metadata": {
    "collapsed": true
   },
   "outputs": [],
   "source": [
    "#Test network accuracy\n",
    "\n",
    "correct = 0\n",
    "total = 0\n",
    "for data in testloader:\n",
    "    images, labels = data\n",
    "    outputs, _, _ = net(Variable(images))\n",
    "    _, predicted = torch.max(outputs.data, 1)\n",
    "    total += labels.size(0)\n",
    "    correct += (predicted == labels).sum()\n",
    "\n",
    "print('Accuracy of the network on the 10000 test images: %d %%' % (\n",
    "    100 * correct / total))"
   ]
  },
  {
   "cell_type": "code",
   "execution_count": null,
   "metadata": {},
   "outputs": [],
   "source": [
    "def generate_animation(path, dim, num):\n",
    "    images = []\n",
    "    for e in range(num):\n",
    "        img_name = path + \"{0:03d}\".format(e) + '.png'\n",
    "        images.append(mpimg.imread(img_name))\n",
    "    imageio.mimsave(\"./sweep/gif/\" + 'dim' + str(dim) + '_generate_animation.gif', images, fps=30)"
   ]
  },
  {
   "cell_type": "code",
   "execution_count": null,
   "metadata": {},
   "outputs": [],
   "source": [
    "\n",
    "imageimage  ==  imageimage..permutepermute(0,2,3,1)\n",
    "for i in range(256):\n",
    "    os.system(\"mkdir ./sweep/\"+str(i))\n",
    "    sweep(image, i, -300, 300, 5)"
   ]
  },
  {
   "cell_type": "code",
   "execution_count": null,
   "metadata": {},
   "outputs": [],
   "source": [
    "def interpolate_linear(path1, path2, savepath, STEP):\n",
    "    pokemon = mpimg.imread(path1)\n",
    "    pokemon = cv2.resize(pokemon, (RESIZE,RESIZE))\n",
    "    pokemon = (pokemon - np.min(pokemon))/np.max(pokemon - np.min(pokemon))\n",
    "    image = torch.from_numpy(pokemon).unsqueeze(0)\n",
    "\n",
    "    image = image[0,:,:,:].unsqueeze(0)\n",
    "    image = image.permute(0,3,1,2)\n",
    "    z_mean, z_logvar = net.encoder(Variable(image.float()).cuda())\n",
    "    z1 = net.latent(z_mean, z_logvar)\n",
    "    ss = net.decoder(z1)\n",
    "    ss = ss.permute(0,2,3,1)\n",
    "    plt.imshow(ss.data.cpu().squeeze().numpy())\n",
    "    plt.show()\n",
    "\n",
    "    pokemon = mpimg.imread(path2)\n",
    "    pokemon = cv2.resize(pokemon, (RESIZE,RESIZE))\n",
    "    pokemon = (pokemon - np.min(pokemon))/np.max(pokemon - np.min(pokemon))\n",
    "    image = torch.from_numpy(pokemon).unsqueeze(0)\n",
    "\n",
    "    image = image[0,:,:,:].unsqueeze(0)\n",
    "    image = image.permute(0,3,1,2)\n",
    "    z_mean, z_logvar = net.encoder(Variable(image.float()).cuda())\n",
    "    z2 = net.latent(z_mean, z_logvar)\n",
    "    ss = net.decoder(z2)\n",
    "    ss = ss.permute(0,2,3,1)\n",
    "    plt.imshow(ss.data.cpu().squeeze().numpy())\n",
    "    plt.show()\n",
    "    step = (z2-z1)/STEP\n",
    "\n",
    "    for i in range(STEP):\n",
    "        ss = net.decoder(z1 + i*step)\n",
    "        ss = ss.permute(0,2,3,1)\n",
    "        plt.imsave(savepath + \"{0:03d}\".format(i) + \".png\", ss.data.cpu().squeeze().numpy())"
   ]
  },
  {
   "cell_type": "code",
   "execution_count": null,
   "metadata": {},
   "outputs": [],
   "source": [
    "def generate_animation_interpol(path, name, num):\n",
    "    images = []\n",
    "    for e in range(num):\n",
    "        img_name = path + \"{0:03d}\".format(e) + '.png'\n",
    "        images.append(mpimg.imread(img_name))\n",
    "    imageio.mimsave(\"./interpolate/gif/\" + name + '_generate_animation.gif', images, fps=30)"
   ]
  },
  {
   "cell_type": "code",
   "execution_count": null,
   "metadata": {},
   "outputs": [],
   "source": [
    "\n",
    "STEPSTEP  ==  100100\n",
    " interpolate_linearinterpo (\"./Pokemon/squirtle.jpg\", \"./Pokemon/charmander.jpg\", \"./interpolate/squirtle_charmander/\", STEP)\n",
    "generate_animation_interpol(\"./interpolate/squirtle_charmander/\", \"6\", STEP)"
   ]
  },
  {
   "cell_type": "code",
   "execution_count": null,
   "metadata": {
    "collapsed": true
   },
   "outputs": [],
   "source": []
  }
 ],
 "metadata": {
  "kernelspec": {
   "display_name": "Python [conda env:pytorch_source]",
   "language": "python",
   "name": "conda-env-pytorch_source-py"
  },
  "language_info": {
   "codemirror_mode": {
    "name": "ipython",
    "version": 3
   },
   "file_extension": ".py",
   "mimetype": "text/x-python",
   "name": "python",
   "nbconvert_exporter": "python",
   "pygments_lexer": "ipython3",
   "version": "3.6.3"
  }
 },
 "nbformat": 4,
 "nbformat_minor": 2
}
